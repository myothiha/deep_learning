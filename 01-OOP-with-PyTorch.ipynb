{
 "cells": [
  {
   "cell_type": "markdown",
   "metadata": {},
   "source": [
    "## Torch Dataset"
   ]
  },
  {
   "cell_type": "code",
   "execution_count": 1,
   "metadata": {},
   "outputs": [],
   "source": [
    "import torch\n",
    "from torch.utils.data import Dataset\n",
    "import pandas as pd"
   ]
  },
  {
   "cell_type": "code",
   "execution_count": 2,
   "metadata": {},
   "outputs": [],
   "source": [
    "class WaterDataset(Dataset):\n",
    "    def __init__(self, csv_path, dtype=torch.float32):\n",
    "        super().__init__()\n",
    "        df = pd.read_csv(csv_path)\n",
    "        self.data = df.to_numpy()\n",
    "        self.dtype = dtype\n",
    "\n",
    "    def __len__(self):\n",
    "        return self.data.shape[0]\n",
    "\n",
    "    def __getitem__(self, index):\n",
    "        features = self.data[index, :-1]\n",
    "        labels = self.data[index, -1]\n",
    "        \n",
    "        features_tensor = torch.tensor(features, dtype=self.dtype)\n",
    "        labels_tensor = torch.tensor(labels, dtype=self.dtype)\n",
    "        return features_tensor, labels_tensor"
   ]
  },
  {
   "cell_type": "code",
   "execution_count": 3,
   "metadata": {},
   "outputs": [],
   "source": [
    "train_file = \"datasets/water_potability/water_train.csv\"\n",
    "test_file = \"datasets/water_potability/water_test.csv\"\n",
    "\n",
    "train_set = WaterDataset(train_file)\n",
    "test_set = WaterDataset(test_file)"
   ]
  },
  {
   "cell_type": "code",
   "execution_count": 4,
   "metadata": {},
   "outputs": [
    {
     "data": {
      "text/plain": [
       "tuple"
      ]
     },
     "execution_count": 4,
     "metadata": {},
     "output_type": "execute_result"
    }
   ],
   "source": [
    "type(train_set[0])"
   ]
  },
  {
   "cell_type": "code",
   "execution_count": 5,
   "metadata": {},
   "outputs": [
    {
     "data": {
      "text/plain": [
       "(tensor([0.4836, 0.6156, 0.5140, 0.7774, 0.3546, 0.3353, 0.3673, 0.5141, 0.6173]),\n",
       " tensor(1.))"
      ]
     },
     "execution_count": 5,
     "metadata": {},
     "output_type": "execute_result"
    }
   ],
   "source": [
    "train_set[0]"
   ]
  },
  {
   "cell_type": "markdown",
   "metadata": {},
   "source": [
    "## Data Loader"
   ]
  },
  {
   "cell_type": "code",
   "execution_count": 6,
   "metadata": {},
   "outputs": [],
   "source": [
    "from torch.utils.data import DataLoader"
   ]
  },
  {
   "cell_type": "code",
   "execution_count": 7,
   "metadata": {},
   "outputs": [],
   "source": [
    "batch_size = 2\n",
    "\n",
    "train_loader = DataLoader(train_set, batch_size=batch_size, shuffle=True)\n",
    "test_loader = DataLoader(test_set, batch_size=batch_size, shuffle=False)"
   ]
  },
  {
   "cell_type": "code",
   "execution_count": 8,
   "metadata": {},
   "outputs": [
    {
     "name": "stdout",
     "output_type": "stream",
     "text": [
      "Features: tensor([[0.3776, 0.3835, 0.4381, 0.5603, 0.5826, 0.3603, 0.6441, 0.5349, 0.2771],\n",
      "        [0.4834, 0.2663, 0.2594, 0.7068, 0.5401, 0.1546, 0.4831, 0.3984, 0.6213]])\n",
      "Labels: tensor([0., 1.])\n"
     ]
    }
   ],
   "source": [
    "features, labels = next(iter(train_loader))\n",
    "print(\"Features:\", features)\n",
    "print(\"Labels:\", labels)"
   ]
  },
  {
   "cell_type": "markdown",
   "metadata": {},
   "source": [
    "## Model"
   ]
  },
  {
   "cell_type": "code",
   "execution_count": 36,
   "metadata": {},
   "outputs": [],
   "source": [
    "import torch.nn as nn\n",
    "import torch.nn.init as init"
   ]
  },
  {
   "cell_type": "code",
   "execution_count": 87,
   "metadata": {},
   "outputs": [],
   "source": [
    "class Model(nn.Module):\n",
    "\n",
    "    def __init__(self):\n",
    "        super().__init__()\n",
    "        self.fc1 = nn.Linear(9, 16)\n",
    "        self.bn1 = nn.BatchNorm1d(16)\n",
    "        self.fc2 = nn.Linear(16, 8)\n",
    "        self.fc3 = nn.Linear(8, 1)\n",
    "\n",
    "        init.kaiming_uniform_(self.fc1.weight)\n",
    "        init.kaiming_uniform_(self.fc2.weight)\n",
    "        init.kaiming_uniform_(self.fc3.weight, nonlinearity=\"sigmoid\")\n",
    "\n",
    "    def forward(self, x):\n",
    "        x = nn.functional.elu(self.fc1(x))\n",
    "        x = self.bn1(x)\n",
    "        x = nn.functional.elu(self.fc2(x))\n",
    "        x = nn.functional.sigmoid(self.fc3(x))\n",
    "\n",
    "        return x\n"
   ]
  },
  {
   "cell_type": "code",
   "execution_count": 88,
   "metadata": {},
   "outputs": [],
   "source": [
    "model = Model()"
   ]
  },
  {
   "cell_type": "markdown",
   "metadata": {},
   "source": [
    "## Loss Function and Optimizer"
   ]
  },
  {
   "cell_type": "code",
   "execution_count": 89,
   "metadata": {},
   "outputs": [],
   "source": [
    "import torch.optim as optim\n",
    "from torch.nn.functional import relu"
   ]
  },
  {
   "cell_type": "code",
   "execution_count": 90,
   "metadata": {},
   "outputs": [],
   "source": [
    "# Define Loss function and optimizer.\n",
    "\n",
    "criterion = nn.BCELoss()\n",
    "lr = 0.01\n",
    "optimizer = optim.Adam(model.parameters(), lr=lr)"
   ]
  },
  {
   "cell_type": "code",
   "execution_count": 91,
   "metadata": {},
   "outputs": [],
   "source": [
    "# Define Metrics\n",
    "from torchmetrics import Accuracy\n",
    "\n",
    "acc = Accuracy(task='Binary')"
   ]
  },
  {
   "cell_type": "code",
   "execution_count": 92,
   "metadata": {},
   "outputs": [
    {
     "name": "stdout",
     "output_type": "stream",
     "text": [
      "Epoch 0 - Acc: 0.61 | Loss: 0.60\n",
      "Epoch 1 - Acc: 0.61 | Loss: 0.62\n",
      "Epoch 2 - Acc: 0.61 | Loss: 0.58\n",
      "Epoch 3 - Acc: 0.61 | Loss: 0.49\n",
      "Epoch 4 - Acc: 0.61 | Loss: 0.74\n",
      "Epoch 5 - Acc: 0.61 | Loss: 0.40\n",
      "Epoch 6 - Acc: 0.61 | Loss: 0.77\n",
      "Epoch 7 - Acc: 0.61 | Loss: 0.74\n",
      "Epoch 8 - Acc: 0.60 | Loss: 0.62\n",
      "Epoch 9 - Acc: 0.60 | Loss: 0.63\n"
     ]
    }
   ],
   "source": [
    "num_epoch = 10\n",
    "\n",
    "for epoch in range(num_epoch):\n",
    "\n",
    "    model.train()\n",
    "\n",
    "    for features, labels in train_loader:\n",
    "        optimizer.zero_grad()\n",
    "        y_hat = model(features)\n",
    "\n",
    "        loss = criterion(\n",
    "            y_hat, labels.view(-1, 1) \n",
    "        )\n",
    "\n",
    "        loss.backward() # compute gradient\n",
    "        optimizer.step() # update weights\n",
    "\n",
    "    model.eval()\n",
    "    \n",
    "    with torch.no_grad():\n",
    "        for features, labels in test_loader:\n",
    "            out = model(features)\n",
    "            y_hat = (out >= 0.5).float()\n",
    "            accuracy = acc(y_hat, labels.view(-1, 1))\n",
    "\n",
    "    print(f\"Epoch {epoch} - Acc: {acc.compute():.2f} | Loss: {loss:.2f}\")\n",
    "    "
   ]
  },
  {
   "cell_type": "code",
   "execution_count": null,
   "metadata": {},
   "outputs": [],
   "source": []
  }
 ],
 "metadata": {
  "kernelspec": {
   "display_name": "NLP_Datacamp",
   "language": "python",
   "name": "python3"
  },
  "language_info": {
   "codemirror_mode": {
    "name": "ipython",
    "version": 3
   },
   "file_extension": ".py",
   "mimetype": "text/x-python",
   "name": "python",
   "nbconvert_exporter": "python",
   "pygments_lexer": "ipython3",
   "version": "3.9.18"
  }
 },
 "nbformat": 4,
 "nbformat_minor": 2
}
